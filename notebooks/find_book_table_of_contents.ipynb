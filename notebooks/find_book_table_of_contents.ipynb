{
 "cells": [
  {
   "cell_type": "markdown",
   "metadata": {},
   "source": [
    "# A Tutorial on Finding the Table of Contents in a Book"
   ]
  },
  {
   "cell_type": "code",
   "execution_count": 1,
   "metadata": {},
   "outputs": [],
   "source": [
    "import PyPDF2\n",
    "\n",
    "import json\n",
    "import re\n",
    "import os\n",
    "\n",
    "from abridged.pdf import parallel_search_in_pdf\n",
    "from abridged.utils.pdf import describe_pdf\n",
    "from abridged.params import DATA_TESTS_PATH\n",
    "from abridged.book import get_toc"
   ]
  },
  {
   "cell_type": "code",
   "execution_count": 2,
   "metadata": {},
   "outputs": [],
   "source": [
    "N_WORKERS = 8"
   ]
  },
  {
   "cell_type": "code",
   "execution_count": 3,
   "metadata": {},
   "outputs": [],
   "source": [
    "test_books = [x for x in os.listdir(DATA_TESTS_PATH) if x.endswith('.pdf')]"
   ]
  },
  {
   "cell_type": "markdown",
   "metadata": {},
   "source": [
    "# Examples of Books"
   ]
  },
  {
   "cell_type": "markdown",
   "metadata": {},
   "source": [
    "## Oxford Handbook of International Security"
   ]
  },
  {
   "cell_type": "code",
   "execution_count": 4,
   "metadata": {},
   "outputs": [
    {
     "data": {
      "text/plain": [
       "'The Oxford Handbook of International Security.pdf'"
      ]
     },
     "execution_count": 4,
     "metadata": {},
     "output_type": "execute_result"
    }
   ],
   "source": [
    "book = test_books[0]\n",
    "book"
   ]
  },
  {
   "cell_type": "code",
   "execution_count": 5,
   "metadata": {},
   "outputs": [
    {
     "name": "stderr",
     "output_type": "stream",
     "text": [
      "100%|██████████| 8/8 [00:12<00:00,  1.53s/it]\n"
     ]
    },
    {
     "name": "stdout",
     "output_type": "stream",
     "text": [
      "This PDF file has 747 pages.\n",
      "It contains 355112 words and 2470382 characters.\n",
      "It has 569285 tokens according to the GPT-4o tokenizer.\n"
     ]
    }
   ],
   "source": [
    "book_path = os.path.join(DATA_TESTS_PATH, book)\n",
    "pdf = PyPDF2.PdfReader(book_path)\n",
    "print(describe_pdf(pdf_path=book_path, n_workers=N_WORKERS))"
   ]
  },
  {
   "cell_type": "markdown",
   "metadata": {},
   "source": [
    "#### Search ToC pages"
   ]
  },
  {
   "cell_type": "code",
   "execution_count": 6,
   "metadata": {},
   "outputs": [],
   "source": [
    "search = 'Online ISBN: 9780191823329 Print ISBN: 9780198777854'\n",
    "search_since_page = 19\n",
    "search_until_page = 700"
   ]
  },
  {
   "cell_type": "code",
   "execution_count": 7,
   "metadata": {},
   "outputs": [
    {
     "name": "stderr",
     "output_type": "stream",
     "text": [
      "100%|██████████| 8/8 [00:11<00:00,  1.48s/it]"
     ]
    },
    {
     "name": "stdout",
     "output_type": "stream",
     "text": [
      "Found 47 pages for Table of Contents in The Oxford Handbook of International Security.pdf\n",
      "[18, 29, 43, 55, 70, 81, 96, 110, 127, 146, 162, 175, 189, 203, 219, 238, 252, 267, 282, 298, 314, 329, 344, 359, 375, 389, 404, 420, 429, 444, 458, 474, 487, 501, 515, 530, 545, 560, 574, 588, 601, 617, 631, 645, 659, 674, 687]\n"
     ]
    },
    {
     "name": "stderr",
     "output_type": "stream",
     "text": [
      "\n"
     ]
    }
   ],
   "source": [
    "pages_toc = parallel_search_in_pdf(\n",
    "    pdf_path=book_path,\n",
    "    search=search,\n",
    "    start_page=search_since_page,\n",
    "    end_page=search_until_page,\n",
    "    n_workers=N_WORKERS\n",
    ")\n",
    "\n",
    "print(f'Found {len(pages_toc)} pages for Table of Contents in {book}')\n",
    "print(pages_toc)"
   ]
  },
  {
   "cell_type": "markdown",
   "metadata": {},
   "source": [
    "#### Check Pages with Images\n",
    "\n",
    "**Disclaimer:** The pages in `pdf` start from 0, but in `convert_from_path` they start from 1."
   ]
  },
  {
   "cell_type": "code",
   "execution_count": 8,
   "metadata": {},
   "outputs": [],
   "source": [
    "# images_toc = [\n",
    "#     (i, convert_from_path(book_path, first_page=i+1, last_page=i+1)[0])\n",
    "#     for i in pages_toc\n",
    "# ]\n",
    "# for image in images_toc:\n",
    "#     print(f'Page {image[0]}')\n",
    "#     # display(image[1])"
   ]
  },
  {
   "cell_type": "markdown",
   "metadata": {},
   "source": [
    "#### Get Titles"
   ]
  },
  {
   "cell_type": "code",
   "execution_count": 9,
   "metadata": {},
   "outputs": [
    {
     "name": "stdout",
     "output_type": "stream",
     "text": [
      "Table of Contents with 46 entries\n",
      "Book: The Oxford Handbook of International Security.pdf\n",
      "################################################################################\n",
      "Chapter 1 [18p-28p]: The Future of Security Studies\n",
      "Chapter 2 [29p-42p]: Security and “Security Studies”: Conceptual Evolution and Historical Transformation\n",
      "Chapter 3 [43p-54p]: Expertise and Practice: The Evolving Relationship between the Study and Practice of Security\n",
      "Chapter 4 [55p-69p]: Feminist Security and Security Studies\n",
      "Chapter 5 [70p-80p]: Critical Security Studies\n",
      "Chapter 6 [81p-95p]: Realisms\n",
      "Chapter 7 [96p-109p]: Constructivism\n",
      "Chapter 8 [110p-126p]: Liberal Approaches\n",
      "Chapter 10 [127p-145p]: Statistics and International Security\n",
      "Chapter 11 [146p-161p]: Methods in Constructivist Approaches\n",
      "Chapter 12 [162p-174p]: Methods in Critical Security Studies\n",
      "Chapter 13 [175p-188p]: Game Theory and the Future of International Security\n",
      "Chapter 14 [189p-202p]: Biology, Evolution, and International Security\n",
      "Chapter 15 [203p-218p]: Systemic Theory and the Future of Great Power War and Peace\n",
      "Chapter 16 [219p-237p]: Trends in Con\u0000ict: What Do We Know and What Can We Know?\n",
      "Chapter 17 [238p-251p]: Leaders, Leadership, and International Security\n",
      "Chapter 18 [252p-266p]: The Politics of National Security\n",
      "Chapter 19 [267p-281p]: Religion and International Security\n",
      "Chapter 20 [282p-297p]: The Future of International Security Norms\n",
      "Chapter 21 [298p-313p]: The Economics of War and Peace\n",
      "Chapter 22 [314p-328p]: The Changing Geography of Global Security\n",
      "Chapter 23 [329p-343p]: The Great Debate: The Nuclear-Political Question and World Order\n",
      "Chapter 24 [344p-358p]: Public–Private Interactions and Practices of Security\n",
      "Chapter 25 [359p-374p]: Nuclear Proliferation: The Risks of Prediction\n",
      "Chapter 26 [375p-388p]: The Global South and International Security\n",
      "Chapter 27 [389p-403p]: Arms Control\n",
      "Chapter 28 [404p-419p]: Nationalism and International Security\n",
      "Chapter 29 [420p-428p]: Energy Security: A Twentieth-Century Major Concern Becoming Irrelevant in the Twenty-First Century?\n",
      "Chapter 30 [429p-443p]: Migration\n",
      "Chapter 31 [444p-457p]: Humanitarian Intervention\n",
      "Chapter 32 [458p-473p]: Environmental Security\n",
      "Chapter 33 [474p-486p]: The Crime Scene: What Lessons for International Security?\n",
      "Chapter 34 [487p-500p]: Terrorism\n",
      "Chapter 35 [501p-514p]: Intelligence and International Politics\n",
      "Chapter 36 [515p-529p]: Trajectories for Future Cybersecurity Research\n",
      "Chapter 37 [530p-544p]: Counter Insurgency\n",
      "Chapter 38 [545p-559p]: International Security and Development\n",
      "Chapter 39 [560p-573p]: Drone Proliferation in the Twenty-\u0000rst Century\n",
      "Chapter 40 [574p-587p]: Images and International Security\n",
      "Chapter 41 [588p-600p]: Maritime Security\n",
      "Chapter 42 [601p-616p]: Global Health and Security: Reassessing the Links\n",
      "Chapter 43 [617p-630p]: Great Powers\n",
      "Chapter 44 [631p-644p]: Alliances\n",
      "Chapter 45 [645p-658p]: The UN Security Council\n",
      "Chapter 46 [659p-673p]: Regional Security Complexes and Organizations\n",
      "Chapter 47 [674p-686p]: International Criminal Accountability and Transnational Advocacy Networks (TAns)\n"
     ]
    }
   ],
   "source": [
    "pattern = r\"Oxford Handbooks(\\d+)\\s+([^]+)\"\n",
    "\n",
    "toc = get_toc(\n",
    "    pdf=pdf, pages_toc=pages_toc, pattern=pattern, search_until_page=search_until_page\n",
    ")\n",
    "\n",
    "print(f'Table of Contents with {len(toc)} entries')\n",
    "print(f'Book: {book}')\n",
    "print('#'*80)\n",
    "for chapter, info in toc.items():\n",
    "    print(f'Chapter {chapter} [{info[\"since\"]}p-{info[\"until\"]}p]: {info[\"title\"]}')"
   ]
  },
  {
   "cell_type": "markdown",
   "metadata": {},
   "source": [
    "#### Save ToC"
   ]
  },
  {
   "cell_type": "code",
   "execution_count": 10,
   "metadata": {},
   "outputs": [],
   "source": [
    "filename = f'TOC-{book.split(\".\")[0]}.json'\n",
    "filepath = os.path.join(DATA_TESTS_PATH, filename)\n",
    "with open(filepath, 'w', encoding='utf-8') as file:\n",
    "    json.dump(toc, file, indent=4, ensure_ascii=False)"
   ]
  }
 ],
 "metadata": {
  "kernelspec": {
   "display_name": ".venv",
   "language": "python",
   "name": "python3"
  },
  "language_info": {
   "codemirror_mode": {
    "name": "ipython",
    "version": 3
   },
   "file_extension": ".py",
   "mimetype": "text/x-python",
   "name": "python",
   "nbconvert_exporter": "python",
   "pygments_lexer": "ipython3",
   "version": "3.12.3"
  }
 },
 "nbformat": 4,
 "nbformat_minor": 2
}
